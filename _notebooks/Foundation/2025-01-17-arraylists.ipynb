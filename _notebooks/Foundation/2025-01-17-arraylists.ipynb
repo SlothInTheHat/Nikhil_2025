{
 "cells": [
  {
   "cell_type": "markdown",
   "metadata": {},
   "source": [
    "---\n",
    "layout: post\n",
    "title: arraylists\n",
    "description:  JAVA\n",
    "type: issues \n",
    "permalink: /arraylistssHw\n",
    "---"
   ]
  },
  {
   "cell_type": "markdown",
   "metadata": {},
   "source": [
    "# Homework\n",
    "\n",
    "Write a program that randomly fills in 0s and 1s into an n-by-n matrix, prints the matrix, and finds the rows and columns with the most 1s. (Hint: Use two ArrayLists to store the row and column indices with the most 1s.) \n",
    "\n",
    "Here is a sample run of the program, printed in the console: \n",
    "```\n",
    "Enter the array size n: 4\n",
    "The random array is\n",
    "0011\n",
    "0011\n",
    "1101\n",
    "1010\n",
    "The largest row index: 2\n",
    "The largest column index: 2, 3 \n",
    "```"
   ]
  },
  {
   "cell_type": "code",
   "execution_count": 1,
   "metadata": {
    "vscode": {
     "languageId": "java"
    }
   },
   "outputs": [
    {
     "name": "stdout",
     "output_type": "stream",
     "text": [
      "Enter the array size: \n",
      "1 1 1 0 0 \n",
      "1 1 1 1 0 \n",
      "0 0 0 1 1 \n",
      "1 0 0 0 1 \n",
      "0 0 1 1 0 \n",
      "Most 1's row huzzah: [4]\n",
      "Most 1's row huzzah: [0, 2, 3]\n"
     ]
    }
   ],
   "source": [
    "import java.util.Random;\n",
    "Random rand = new Random();\n",
    "Scanner input = new Scanner(System.in);\n",
    "System.out.println(\"Enter the array size: \");\n",
    "int size = input.nextInt();\n",
    "int[][] arr = new int[size][size];\n",
    "\n",
    "ArrayList<ArrayList<Integer>> arr = new ArrayList<>();\n",
    "\n",
    "for (int i = 0; i < size; i++) {\n",
    "    ArrayList<Integer> row = new ArrayList<>();\n",
    "\n",
    "    for (int j = 0; j < size; j++){\n",
    "        row.add(rand.nextInt(2));\n",
    "    }\n",
    "    arr.add(row);\n",
    "}\n",
    "\n",
    "for (ArrayList<Integer> row : arr) {\n",
    "    for (int c : row) { \n",
    "        System.out.print(c + \" \");\n",
    "    }\n",
    "    System.out.println(); \n",
    "}\n",
    "\n",
    "ArrayList<Integer> maxRow = new ArrayList<>();\n",
    "ArrayList<Integer> maxCollumn = new ArrayList<>();\n",
    "\n",
    "int sum = 0;\n",
    "int max = 0;\n",
    "for (int i=0; i < size; i++){\n",
    "    for (int j : arr.get(i)) {\n",
    "        sum += j;\n",
    "    }\n",
    "\n",
    "    if (sum > max) {\n",
    "        max = sum;\n",
    "        maxRow.clear();\n",
    "        maxRow.add(i);\n",
    "    }\n",
    "    else if (sum == max){\n",
    "        maxRow.add(i);\n",
    "    }\n",
    "}\n",
    "\n",
    "max = 0;\n",
    "for (int i = 0; i < size; i++) {\n",
    "    sum = 0;\n",
    "\n",
    "    for (int j = 0; j < size; j++) {\n",
    "        sum += arr.get(j).get(i);\n",
    "    }\n",
    "    if (sum > max){\n",
    "        max = sum;\n",
    "        maxCollumn.clear();\n",
    "        maxCollumn.add(i);\n",
    "    }\n",
    "    else if (sum == max){\n",
    "        maxCollumn.add(i);\n",
    "    }\n",
    "}\n",
    "\n",
    "System.out.println(\"Most 1's row huzzah: \" + maxRow);\n",
    "System.out.println(\"Most 1's row huzzah: \" + maxCollumn);\n"
   ]
  }
 ],
 "metadata": {
  "kernelspec": {
   "display_name": "Java",
   "language": "java",
   "name": "java"
  },
  "language_info": {
   "codemirror_mode": "java",
   "file_extension": ".jshell",
   "mimetype": "text/x-java-source",
   "name": "Java",
   "pygments_lexer": "java",
   "version": "17.0.12+7-Ubuntu-1ubuntu222.04"
  }
 },
 "nbformat": 4,
 "nbformat_minor": 2
}
