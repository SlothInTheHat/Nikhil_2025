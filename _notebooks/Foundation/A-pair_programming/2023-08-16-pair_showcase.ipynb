{
 "cells": [
  {
   "cell_type": "raw",
   "metadata": {
    "vscode": {
     "languageId": "raw"
    }
   },
   "source": [
    "---\n",
    "layout: post\n",
    "title: Maze Solver\n",
    "description: recursive maze solver\n",
    "categories: [Collaboration]\n",
    "courses: { csse: {week: 3}, csp: {week: 3}, csa: {week: 2} }\n",
    "menu: nav/pair_programming.html\n",
    "permalink: /pair/showcase\n",
    "type: collab\n",
    "comments: true\n",
    "---"
   ]
  },
  {
   "cell_type": "code",
   "execution_count": 1,
   "metadata": {
    "vscode": {
     "languageId": "java"
    }
   },
   "outputs": [
    {
     "name": "stdout",
     "output_type": "stream",
     "text": [
      "true\n"
     ]
    }
   ],
   "source": [
    "public class MazeSolver {\n",
    "\n",
    "    public static boolean solveMaze(char[][] maze, int startX, int startY) {\n",
    "        if (maze[startX][startY] == '#' || maze[startX][startY] == 'x') {\n",
    "            return false;\n",
    "        }\n",
    "\n",
    "        if (maze[startX][startY] == 'E') {\n",
    "            return true;\n",
    "        }\n",
    "\n",
    "        // Mark the current cell as visited\n",
    "        maze[startX][startY] = 'x';\n",
    "\n",
    "        // try every direction\n",
    "        boolean foundExit = solveMaze(maze, startX - 1, startY) || // up\n",
    "                            solveMaze(maze, startX + 1, startY) || // down\n",
    "                            solveMaze(maze, startX, startY - 1) || // left\n",
    "                            solveMaze(maze, startX, startY + 1);   // right\n",
    "\n",
    "        //reset\n",
    "        maze[startX][startY] = ' ';\n",
    "\n",
    "        return foundExit;\n",
    "    }\n",
    "\n",
    "    public static void main(String[] args) {\n",
    "        char[][] maze = {\n",
    "            {'#', '#', '#', '#', '#'},\n",
    "            {'#', ' ', ' ', '#', 'E'},\n",
    "            {'#', ' ', '#', ' ', '#'},\n",
    "            {'#', ' ', ' ', ' ', '#'},\n",
    "            {'#', '#', '#', '#', '#'}\n",
    "        };\n",
    "\n",
    "        System.out.println(solveMaze(maze, 1, 4));\n",
    "    }\n",
    "}\n",
    "\n",
    "\n",
    "MazeSolver.main(null);\n",
    "\n"
   ]
  }
 ],
 "metadata": {
  "kernelspec": {
   "display_name": "Java",
   "language": "java",
   "name": "java"
  },
  "language_info": {
   "codemirror_mode": "java",
   "file_extension": ".jshell",
   "mimetype": "text/x-java-source",
   "name": "Java",
   "pygments_lexer": "java",
   "version": "17.0.12+7-Ubuntu-1ubuntu222.04"
  },
  "orig_nbformat": 4
 },
 "nbformat": 4,
 "nbformat_minor": 2
}
