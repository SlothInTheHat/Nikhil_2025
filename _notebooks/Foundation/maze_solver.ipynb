{
 "cells": [
  {
   "cell_type": "markdown",
   "metadata": {},
   "source": [
    "---\n",
    "layout: post\n",
    "title: Homework\n",
    "menu: nav/maze_solver\n",
    "permalink: /maze_solver\n",
    "---"
   ]
  },
  {
   "cell_type": "markdown",
   "metadata": {},
   "source": [
    "# Maze solver"
   ]
  },
  {
   "cell_type": "code",
   "execution_count": 15,
   "metadata": {
    "vscode": {
     "languageId": "java"
    }
   },
   "outputs": [
    {
     "name": "stdout",
     "output_type": "stream",
     "text": [
      "true\n"
     ]
    }
   ],
   "source": [
    "public class MazeSolver {\n",
    "\n",
    "    public static boolean solveMaze(char[][] maze, int startX, int startY) {\n",
    "        if (maze[startX][startY] == '#' || maze[startX][startY] == 'x') {\n",
    "            return false;\n",
    "        }\n",
    "\n",
    "        if (maze[startX][startY] == 'E') {\n",
    "            return true;\n",
    "        }\n",
    "\n",
    "        // Mark the current cell as visited\n",
    "        maze[startX][startY] = 'x';\n",
    "\n",
    "        // try every direction\n",
    "        boolean foundExit = solveMaze(maze, startX - 1, startY) || // up\n",
    "                            solveMaze(maze, startX + 1, startY) || // down\n",
    "                            solveMaze(maze, startX, startY - 1) || // left\n",
    "                            solveMaze(maze, startX, startY + 1);   // right\n",
    "\n",
    "        //reset\n",
    "        maze[startX][startY] = ' ';\n",
    "\n",
    "        return foundExit;\n",
    "    }\n",
    "\n",
    "    public static void main(String[] args) {\n",
    "        char[][] maze = {\n",
    "            {'#', '#', '#', '#', '#'},\n",
    "            {'#', ' ', ' ', '#', 'E'},\n",
    "            {'#', ' ', '#', ' ', '#'},\n",
    "            {'#', ' ', ' ', ' ', '#'},\n",
    "            {'#', '#', '#', '#', '#'}\n",
    "        };\n",
    "\n",
    "        System.out.println(solveMaze(maze, 1, 4));\n",
    "    }\n",
    "}\n",
    "\n",
    "\n",
    "MazeSolver.main(null);\n",
    "\n"
   ]
  },
  {
   "cell_type": "markdown",
   "metadata": {},
   "source": []
  }
 ],
 "metadata": {
  "kernelspec": {
   "display_name": "Java",
   "language": "java",
   "name": "java"
  },
  "language_info": {
   "codemirror_mode": "java",
   "file_extension": ".jshell",
   "mimetype": "text/x-java-source",
   "name": "Java",
   "pygments_lexer": "java",
   "version": "17.0.12+7-Ubuntu-1ubuntu222.04"
  }
 },
 "nbformat": 4,
 "nbformat_minor": 2
}
