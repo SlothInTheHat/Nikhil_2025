{
 "cells": [
  {
   "cell_type": "markdown",
   "metadata": {},
   "source": [
    "---\n",
    "layout: post\n",
    "title: Sprint 1 - Objectives \n",
    "description:  Python Hacks\n",
    "type: issues \n",
    "comments: true\n",
    "---"
   ]
  },
  {
   "cell_type": "markdown",
   "metadata": {},
   "source": [
    "## Emoji Type "
   ]
  },
  {
   "cell_type": "code",
   "execution_count": 26,
   "metadata": {},
   "outputs": [
    {
     "name": "stdout",
     "output_type": "stream",
     "text": [
      "Defaulting to user installation because normal site-packages is not writeable\n",
      "Collecting emoji\n",
      "  Using cached emoji-2.12.1-py3-none-any.whl (431 kB)\n",
      "Collecting typing-extensions>=4.7.0\n",
      "  Using cached typing_extensions-4.12.2-py3-none-any.whl (37 kB)\n",
      "Installing collected packages: typing-extensions, emoji\n",
      "Successfully installed emoji-2.12.1 typing-extensions-4.12.2\n",
      "Note: you may need to restart the kernel to use updated packages.\n"
     ]
    }
   ],
   "source": [
    "%pip install emoji"
   ]
  },
  {
   "cell_type": "code",
   "execution_count": 27,
   "metadata": {},
   "outputs": [
    {
     "name": "stdout",
     "output_type": "stream",
     "text": [
      "Here's your 🍨\n"
     ]
    }
   ],
   "source": [
    "from emoji import emojize\n",
    "q = \"a\"\n",
    "while q != \"cookie\" or q != \"ice cream\":\n",
    "    q = input(\"Would you rather have Ice Cream or a Cookie\")\n",
    "    if q.isalpha:\n",
    "        q.lower()\n",
    "        if q == \"cookie\":\n",
    "            q = f\":{q}:\"\n",
    "            print(f\"Here's your {emojize(q)}\")\n",
    "            break\n",
    "        if q == \"ice cream\":\n",
    "            q = q.replace(\" \", \"_\")\n",
    "            q = f\":{q}:\"\n",
    "            print(f\"Here's your {emojize(q)}\")\n",
    "            break"
   ]
  },
  {
   "cell_type": "markdown",
   "metadata": {},
   "source": []
  },
  {
   "cell_type": "code",
   "execution_count": 28,
   "metadata": {},
   "outputs": [
    {
     "name": "stdout",
     "output_type": "stream",
     "text": [
      "Defaulting to user installation because normal site-packages is not writeable\n",
      "Requirement already satisfied: newspaper3k in /home/nikhil/.local/lib/python3.10/site-packages (0.2.8)\n",
      "Requirement already satisfied: lxml>=3.6.0 in /usr/lib/python3/dist-packages (from newspaper3k) (4.8.0)\n",
      "Requirement already satisfied: feedparser>=5.2.1 in /home/nikhil/.local/lib/python3.10/site-packages (from newspaper3k) (6.0.11)\n",
      "Requirement already satisfied: PyYAML>=3.11 in /usr/lib/python3/dist-packages (from newspaper3k) (5.4.1)\n",
      "Requirement already satisfied: nltk>=3.2.1 in /home/nikhil/.local/lib/python3.10/site-packages (from newspaper3k) (3.9.1)\n",
      "Requirement already satisfied: tldextract>=2.0.1 in /home/nikhil/.local/lib/python3.10/site-packages (from newspaper3k) (5.1.2)\n",
      "Requirement already satisfied: jieba3k>=0.35.1 in /home/nikhil/.local/lib/python3.10/site-packages (from newspaper3k) (0.35.1)\n",
      "Requirement already satisfied: tinysegmenter==0.3 in /home/nikhil/.local/lib/python3.10/site-packages (from newspaper3k) (0.3)\n",
      "Requirement already satisfied: beautifulsoup4>=4.4.1 in /usr/lib/python3/dist-packages (from newspaper3k) (4.10.0)\n",
      "Requirement already satisfied: cssselect>=0.9.2 in /home/nikhil/.local/lib/python3.10/site-packages (from newspaper3k) (1.2.0)\n",
      "Requirement already satisfied: Pillow>=3.3.0 in /usr/lib/python3/dist-packages (from newspaper3k) (9.0.1)\n",
      "Requirement already satisfied: feedfinder2>=0.0.4 in /home/nikhil/.local/lib/python3.10/site-packages (from newspaper3k) (0.0.4)\n",
      "Requirement already satisfied: python-dateutil>=2.5.3 in /usr/lib/python3/dist-packages (from newspaper3k) (2.8.1)\n",
      "Requirement already satisfied: requests>=2.10.0 in /home/nikhil/.local/lib/python3.10/site-packages (from newspaper3k) (2.32.3)\n",
      "Requirement already satisfied: six in /usr/lib/python3/dist-packages (from feedfinder2>=0.0.4->newspaper3k) (1.16.0)\n",
      "Requirement already satisfied: sgmllib3k in /home/nikhil/.local/lib/python3.10/site-packages (from feedparser>=5.2.1->newspaper3k) (1.0.0)\n",
      "Requirement already satisfied: click in /home/nikhil/.local/lib/python3.10/site-packages (from nltk>=3.2.1->newspaper3k) (8.1.7)\n",
      "Requirement already satisfied: joblib in /home/nikhil/.local/lib/python3.10/site-packages (from nltk>=3.2.1->newspaper3k) (1.4.2)\n",
      "Requirement already satisfied: tqdm in /home/nikhil/.local/lib/python3.10/site-packages (from nltk>=3.2.1->newspaper3k) (4.66.5)\n",
      "Requirement already satisfied: regex>=2021.8.3 in /home/nikhil/.local/lib/python3.10/site-packages (from nltk>=3.2.1->newspaper3k) (2024.9.11)\n",
      "Requirement already satisfied: urllib3<3,>=1.21.1 in /home/nikhil/.local/lib/python3.10/site-packages (from requests>=2.10.0->newspaper3k) (2.2.3)\n",
      "Requirement already satisfied: certifi>=2017.4.17 in /home/nikhil/.local/lib/python3.10/site-packages (from requests>=2.10.0->newspaper3k) (2024.8.30)\n",
      "Requirement already satisfied: charset-normalizer<4,>=2 in /home/nikhil/.local/lib/python3.10/site-packages (from requests>=2.10.0->newspaper3k) (3.3.2)\n",
      "Requirement already satisfied: idna<4,>=2.5 in /home/nikhil/.local/lib/python3.10/site-packages (from requests>=2.10.0->newspaper3k) (3.8)\n",
      "Requirement already satisfied: filelock>=3.0.8 in /home/nikhil/.local/lib/python3.10/site-packages (from tldextract>=2.0.1->newspaper3k) (3.16.0)\n",
      "Requirement already satisfied: requests-file>=1.4 in /home/nikhil/.local/lib/python3.10/site-packages (from tldextract>=2.0.1->newspaper3k) (2.1.0)\n",
      "Note: you may need to restart the kernel to use updated packages.\n",
      "Defaulting to user installation because normal site-packages is not writeable\n",
      "Requirement already satisfied: wikipedia in /home/nikhil/.local/lib/python3.10/site-packages (1.4.0)\n",
      "Requirement already satisfied: requests<3.0.0,>=2.0.0 in /home/nikhil/.local/lib/python3.10/site-packages (from wikipedia) (2.32.3)\n",
      "Requirement already satisfied: beautifulsoup4 in /usr/lib/python3/dist-packages (from wikipedia) (4.10.0)\n",
      "Requirement already satisfied: charset-normalizer<4,>=2 in /home/nikhil/.local/lib/python3.10/site-packages (from requests<3.0.0,>=2.0.0->wikipedia) (3.3.2)\n",
      "Requirement already satisfied: certifi>=2017.4.17 in /home/nikhil/.local/lib/python3.10/site-packages (from requests<3.0.0,>=2.0.0->wikipedia) (2024.8.30)\n",
      "Requirement already satisfied: idna<4,>=2.5 in /home/nikhil/.local/lib/python3.10/site-packages (from requests<3.0.0,>=2.0.0->wikipedia) (3.8)\n",
      "Requirement already satisfied: urllib3<3,>=1.21.1 in /home/nikhil/.local/lib/python3.10/site-packages (from requests<3.0.0,>=2.0.0->wikipedia) (2.2.3)\n",
      "Note: you may need to restart the kernel to use updated packages.\n",
      "Defaulting to user installation because normal site-packages is not writeable\n",
      "Requirement already satisfied: lxml_html_clean in /home/nikhil/.local/lib/python3.10/site-packages (0.2.2)\n",
      "Requirement already satisfied: lxml in /usr/lib/python3/dist-packages (from lxml_html_clean) (4.8.0)\n",
      "Note: you may need to restart the kernel to use updated packages.\n",
      "Defaulting to user installation because normal site-packages is not writeable\n",
      "Requirement already satisfied: requests in /home/nikhil/.local/lib/python3.10/site-packages (2.32.3)\n",
      "Requirement already satisfied: idna<4,>=2.5 in /home/nikhil/.local/lib/python3.10/site-packages (from requests) (3.8)\n",
      "Requirement already satisfied: charset-normalizer<4,>=2 in /home/nikhil/.local/lib/python3.10/site-packages (from requests) (3.3.2)\n",
      "Requirement already satisfied: certifi>=2017.4.17 in /home/nikhil/.local/lib/python3.10/site-packages (from requests) (2024.8.30)\n",
      "Requirement already satisfied: urllib3<3,>=1.21.1 in /home/nikhil/.local/lib/python3.10/site-packages (from requests) (2.2.3)\n",
      "Note: you may need to restart the kernel to use updated packages.\n",
      "Defaulting to user installation because normal site-packages is not writeable\n",
      "Requirement already satisfied: python-dotenv in /home/nikhil/.local/lib/python3.10/site-packages (1.0.1)\n",
      "Note: you may need to restart the kernel to use updated packages.\n"
     ]
    }
   ],
   "source": [
    "%pip install newspaper3k\n",
    "%pip install wikipedia\n",
    "%pip install lxml_html_clean\n",
    "%pip install requests\n",
    "%pip install python-dotenv"
   ]
  },
  {
   "cell_type": "code",
   "execution_count": 1,
   "metadata": {},
   "outputs": [
    {
     "name": "stdout",
     "output_type": "stream",
     "text": [
      "<Response [200]>\n"
     ]
    }
   ],
   "source": [
    "import requests\n",
    "from dotenv import load_dotenv\n",
    "import os\n",
    "\n",
    "# Load the .env file\n",
    "load_dotenv()\n",
    "\n",
    "urls = {}\n",
    "API_KEY = os.getenv('API_KEY')\n",
    "CSE_ID = os.getenv('CSE_ID')\n",
    "QUERY = input(\"Ask me anything: \")\n",
    "paramiters = {\n",
    "    \"start\": 1\n",
    "}\n",
    "\n",
    "url = f\"https://www.googleapis.com/customsearch/v1?key={API_KEY}&cx={CSE_ID}&q={QUERY}\"\n",
    "response = requests.get(url, params=paramiters)\n",
    "print(response)\n",
    "search_results = response.json()\n",
    "\n",
    "html_links = []\n",
    "\n",
    "for item in search_results.get('items', []):\n",
    "    title = item['title']\n",
    "    link = item['link']\n",
    "    urls[title] = link\n"
   ]
  },
  {
   "cell_type": "code",
   "execution_count": 2,
   "metadata": {},
   "outputs": [
    {
     "name": "stdout",
     "output_type": "stream",
     "text": [
      "{'Morning Joe [6AM] 9/13/24 | 🅱️ Breaking News September 13 ...': 'https://www.youtube.com/watch?v=-Fo4oyW_iQA', 'News 9 6 a.m. Newscast 9/13/2024': 'https://www.news9.com/story/66e42941b1a9ec8e764c840e/news-9-6-am-newscast-9132024', \"Sophia Cruz's Idaho News 6 Forecast - 9/13/2024 - YouTube\": 'https://www.youtube.com/watch?v=mILngq-2Z7o', 'News 9 4:30 a.m. Newscast 9/13/2024': 'https://www.news9.com/story/66e41bc1b1a9ec8e76495c09/news-9-4:30-am-newscast-9132024', 'Latest Arsenal News Update (PIDGIN) SEPT 13, 2024 - YouTube': 'https://www.youtube.com/watch?v=TnHriLHPFrA', 'Latest Medical News, Clinical Trials, Guidelines - Today on Medscape': 'https://www.medscape.com/', 'Daily Immigration News Clips – September 13, 2024': 'https://www.aila.org/library/daily-immigration-news-clips-september-13-2024', 'Friday, September 13, 2024 NYT crossword by Boaz Moser, No. 0913': 'https://www.xwordinfo.com/Crossword?date=9/13/2024', 'Jail Log 9/13/2024 | Crime | lasvegasoptic.com': 'https://www.lasvegasoptic.com/news/crime/jail-log-9-13-2024/article_2fc8256c-7119-11ef-896a-679208671d47.html', 'Incident Management Situation Report Friday, September 13, 2024 ...': 'https://www.nifc.gov/nicc-files/sitreprt.pdf'}\n",
      "\n",
      "\n",
      "\n",
      "\n",
      "\n",
      "\n",
      "\n",
      "\n",
      "\n",
      "\n",
      "\n",
      "\n"
     ]
    },
    {
     "data": {
      "text/markdown": [
       "## Daily Immigration News Clips – September 13, 2024"
      ],
      "text/plain": [
       "<IPython.core.display.Markdown object>"
      ]
     },
     "metadata": {},
     "output_type": "display_data"
    },
    {
     "data": {
      "text/markdown": [
       "2350"
      ],
      "text/plain": [
       "<IPython.core.display.Markdown object>"
      ]
     },
     "metadata": {},
     "output_type": "display_data"
    },
    {
     "data": {
      "text/markdown": [
       "Immigration News\n",
       "\n",
       "Daily Immigration News Clips – September 13, 2024\n",
       "\n",
       "Aggregated local and national media coverage of major immigration law news stories being discussed throughout the U.S. on September 13, 2024.\n",
       "\n",
       "National\n",
       "\n",
       "Public Health Watch Immigrant Domestic Abuse Victims Are Waiting Longer Than Ever for Relief\n",
       "\n",
       "By Gina Jiménez\n",
       "\n",
       "New York Times Young Chinese Émigrés Confront America’s Brutal Visa Lottery\n",
       "\n",
       "By Li Yuan\n",
       "\n",
       "PBS Comparing Trump’s and Harris’ positions on immigration and border security\n",
       "\n",
       "By Lisa Desjardins, Ali Schmitz, Saher Khan\n",
       "\n",
       "CBS News States have ramped up efforts to enact stricter immigration laws, group finds\n",
       "\n",
       "By Camilo Montoya-Galvez, Fin Gómez\n",
       "\n",
       "The New Republic J.D. Vance Is Now Openly Arguing Immigration Is Bad for America\n",
       "\n",
       "By Hafiz Rashid\n",
       "\n",
       "Ethnic Media Services Mass Deportations Would Be Disastrous for the US Economy\n",
       "\n",
       "By Sunita Sohrabji\n",
       "\n",
       "Truthout In Texas, Racist Conspiracy Theories Fuel Suppression of Latino Voters\n",
       "\n",
       "By Mike Ludwig\n",
       "\n",
       "Baptist News Elected officials who spread immigration lies pose a threat to public safety, rights groups say\n",
       "\n",
       "By Jeff Brumley\n",
       "\n",
       "Washington Post Springfield bomb threat used ‘hateful’ language toward migrants, Haitians, mayor says\n",
       "\n",
       "By Azi Paybarah, Amy B Wang\n",
       "\n",
       "Los Angeles Times Trump’s Haitian immigrant comments create a storm in Florida\n",
       "\n",
       "By Noah Bierman\n",
       "\n",
       "Wall Street Journal A Boy Uprooted in Eisenhower’s Mass Deportation Reflects on Trump’s Plan for Another\n",
       "\n",
       "By Michelle Hackman, Andrew Restuccia\n",
       "\n",
       "Axios NYC campaign aims to subvert anti-immigrant rhetoric\n",
       "\n",
       "By Marina E. Franco\n",
       "\n",
       "The Hill (Op-Ed) The crucial immigration discussion overlooked at the debate\n",
       "\n",
       "By Thomas Warrick\n",
       "\n",
       "The Present Age (Op-Ed) When a Lie Becomes a Bomb Threat: The Fallout of a Racist Conspiracy in Springfield\n",
       "\n",
       "By Parker Molloy\n",
       "\n",
       "Local\n",
       "\n",
       "Tucson Sentinel In Tucson stop, Trump vows to launch massive deportation effort, end Ukraine war & fill days with 'joy'\n",
       "\n",
       "By Jim Nintzel\n",
       "\n",
       "Springfield News Sun Springfield City Hall, schools, county hit by bomb threat tied to Haitian issues\n",
       "\n",
       "By Jessica Orozco, Jeremy P. Kelley\n",
       "\n",
       "Miami Herald (Op-Ed) False claims against Haitians must be debunked\n",
       "\n",
       "By Marleine Bastien, Brian Concannon\n",
       "\n",
       "InsiderNJ (Op-Ed) Harris pulverized Trump, but she can’t rest on her laurels\n",
       "\n",
       "By Maribel Hastings\n",
       "\n",
       "El Semanario (Op-Ed) Mass deportations: A major economic disaster\n",
       "\n",
       "By Maribel Hastings"
      ],
      "text/plain": [
       "<IPython.core.display.Markdown object>"
      ]
     },
     "metadata": {},
     "output_type": "display_data"
    },
    {
     "name": "stdout",
     "output_type": "stream",
     "text": [
      "\n",
      "\n",
      "\n",
      "\n",
      "\n",
      "\n",
      "\n",
      "\n",
      "\n"
     ]
    }
   ],
   "source": [
    "from newspaper import Article\n",
    "from IPython.display import display, Markdown\n",
    "\n",
    "print(urls)\n",
    "for url in urls:\n",
    "    try:\n",
    "        article = Article(urls[url])\n",
    "        article.download()\n",
    "        article.parse()\n",
    "        if len(article.text) > 500:\n",
    "        # Display the article title and text\n",
    "            display(Markdown(f\"## {article.title}\"))\n",
    "            display(Markdown(str(len(article.text))))\n",
    "            display(Markdown(article.text))\n",
    "    except Exception as e:\n",
    "        print(\"\")\n",
    "        # print(f\"Error processing {url}: {e}\")\n",
    "    print(\"\\n\")"
   ]
  },
  {
   "cell_type": "code",
   "execution_count": null,
   "metadata": {},
   "outputs": [],
   "source": [
    "import wikipedia \n",
    "from IPython.display import display, Markdown # add for Jupyter\n",
    "\n",
    "terms = [\"Python (programming)\", \"JavaScript\"]\n",
    "for term in terms:\n",
    "    # Search for a page \n",
    "    result = wikipedia.search(term)\n",
    "    # Get the summary of the first result\n",
    "    summary = wikipedia.summary(result[0])\n",
    "    print(term) \n",
    "    # print(summary) # console display\n",
    "    display(Markdown(summary)) # Jupyter display"
   ]
  },
  {
   "cell_type": "code",
   "execution_count": null,
   "metadata": {},
   "outputs": [],
   "source": []
  }
 ],
 "metadata": {
  "kernelspec": {
   "display_name": "Python 3",
   "language": "python",
   "name": "python3"
  },
  "language_info": {
   "codemirror_mode": {
    "name": "ipython",
    "version": 3
   },
   "file_extension": ".py",
   "mimetype": "text/x-python",
   "name": "python",
   "nbconvert_exporter": "python",
   "pygments_lexer": "ipython3",
   "version": "3.10.12"
  }
 },
 "nbformat": 4,
 "nbformat_minor": 2
}
