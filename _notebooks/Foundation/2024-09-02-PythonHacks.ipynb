{
 "cells": [
  {
   "cell_type": "markdown",
   "metadata": {},
   "source": [
    "---\n",
    "layout: post\n",
    "title: Sprint 1 - Objectives \n",
    "description:  Python Hacks\n",
    "type: issues \n",
    "comments: true\n",
    "---"
   ]
  },
  {
   "cell_type": "markdown",
   "metadata": {},
   "source": [
    "## Emoji Type "
   ]
  },
  {
   "cell_type": "code",
   "execution_count": null,
   "metadata": {},
   "outputs": [],
   "source": [
    "%pip install emoji"
   ]
  },
  {
   "cell_type": "code",
   "execution_count": null,
   "metadata": {},
   "outputs": [],
   "source": [
    "from emoji import emojize\n",
    "q = \"a\"\n",
    "while q != \"cookie\" or q != \"ice cream\":\n",
    "    q = input(\"Would you rather have Ice Cream or a Cookie\")\n",
    "    if q.isalpha:\n",
    "        q.lower()\n",
    "        if q == \"cookie\":\n",
    "            q = f\":{q}:\"\n",
    "            print(f\"Here's your {emojize(q)}\")\n",
    "            break\n",
    "        if q == \"ice cream\":\n",
    "            q = q.replace(\" \", \"_\")\n",
    "            q = f\":{q}:\"\n",
    "            print(f\"Here's your {emojize(q)}\")\n",
    "            break"
   ]
  },
  {
   "cell_type": "markdown",
   "metadata": {},
   "source": []
  },
  {
   "cell_type": "code",
   "execution_count": 10,
   "metadata": {},
   "outputs": [],
   "source": [
    "# %pip install newspaper3k\n",
    "# %pip install wikipedia\n",
    "# %pip install lxml_html_clean"
   ]
  },
  {
   "cell_type": "code",
   "execution_count": null,
   "metadata": {},
   "outputs": [],
   "source": [
    "import requests\n",
    "from dotenv import load_dotenv\n",
    "import os\n",
    "\n",
    "# Load the .env file\n",
    "load_dotenv()\n",
    "\n",
    "urls = {}\n",
    "API_KEY = os.getenv('API_KEY')\n",
    "CSE_ID = os.getenv('CSE_ID')\n",
    "print(API_KEY)\n",
    "QUERY = input(\"Ask me anything: \")\n",
    "paramiters = {\n",
    "    \"start\": 1\n",
    "}\n",
    "\n",
    "url = f\"https://www.googleapis.com/customsearch/v1?key={API_KEY}&cx={CSE_ID}&q={QUERY}\"\n",
    "response = requests.get(url, params=paramiters)\n",
    "\n",
    "search_results = response.json()\n",
    "\n",
    "html_links = []\n",
    "\n",
    "for item in search_results.get('items', []):\n",
    "    title = item['title']\n",
    "    link = item['link']\n",
    "    urls[title] = link\n"
   ]
  },
  {
   "cell_type": "code",
   "execution_count": null,
   "metadata": {},
   "outputs": [],
   "source": [
    "from newspaper import Article\n",
    "from IPython.display import display, Markdown\n",
    "\n",
    "\n",
    "for url in urls:\n",
    "    try:\n",
    "        article = Article(urls[url])\n",
    "        article.download()\n",
    "        article.parse()\n",
    "        if len(article.text) > 500:\n",
    "        # Display the article title and text\n",
    "            display(Markdown(f\"## {article.title}\"))\n",
    "            display(Markdown(str(len(article.text))))\n",
    "            display(Markdown(article.text))\n",
    "    except Exception as e:\n",
    "        print(\"\")\n",
    "        # print(f\"Error processing {url}: {e}\")\n",
    "    print(\"\\n\")"
   ]
  },
  {
   "cell_type": "code",
   "execution_count": null,
   "metadata": {},
   "outputs": [],
   "source": [
    "import wikipedia \n",
    "from IPython.display import display, Markdown # add for Jupyter\n",
    "\n",
    "terms = [\"Python (programming)\", \"JavaScript\"]\n",
    "for term in terms:\n",
    "    # Search for a page \n",
    "    result = wikipedia.search(term)\n",
    "    # Get the summary of the first result\n",
    "    summary = wikipedia.summary(result[0])\n",
    "    print(term) \n",
    "    # print(summary) # console display\n",
    "    display(Markdown(summary)) # Jupyter display"
   ]
  },
  {
   "cell_type": "code",
   "execution_count": null,
   "metadata": {},
   "outputs": [],
   "source": []
  }
 ],
 "metadata": {
  "kernelspec": {
   "display_name": "venv",
   "language": "python",
   "name": "python3"
  },
  "language_info": {
   "codemirror_mode": {
    "name": "ipython",
    "version": 3
   },
   "file_extension": ".py",
   "mimetype": "text/x-python",
   "name": "python",
   "nbconvert_exporter": "python",
   "pygments_lexer": "ipython3",
   "version": "3.10.12"
  }
 },
 "nbformat": 4,
 "nbformat_minor": 2
}
