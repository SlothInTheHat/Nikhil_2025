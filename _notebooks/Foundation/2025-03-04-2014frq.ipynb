{
 "cells": [
  {
   "cell_type": "markdown",
   "metadata": {},
   "source": [
    "---\n",
    "layout: post\n",
    "title: 2014 FRQs\n",
    "description:  JAVA\n",
    "type: issues \n",
    "permalink: /2014FRQ\n",
    "---"
   ]
  },
  {
   "cell_type": "markdown",
   "metadata": {},
   "source": [
    "# 2014"
   ]
  },
  {
   "cell_type": "code",
   "execution_count": 2,
   "metadata": {
    "vscode": {
     "languageId": "java"
    }
   },
   "outputs": [
    {
     "name": "stdout",
     "output_type": "stream",
     "text": [
      "herld\n",
      "wova\n",
      "jade\n",
      "code\n"
     ]
    }
   ],
   "source": [
    "public class WordScrambler {\n",
    "\n",
    "    private String[] scrambledWords;\n",
    "\n",
    "    public WordScrambler(String[] wordArr) {\n",
    "        scrambledWords = mixedWords(wordArr);\n",
    "    }\n",
    "\n",
    "    private String recombine(String word1, String word2) {\n",
    "        return word1.substring(0, word1.length() / 2) + word2.substring(word2.length() / 2);\n",
    "    }\n",
    "\n",
    "    private String[] mixedWords(String[] words) {\n",
    "        String[] newWords = new String[words.length];\n",
    "        for (int i = 0; i < words.length - 1; i++) {\n",
    "            newWords[i] = recombine(words[i], words[i + 1]);\n",
    "        }\n",
    "        // Handle the last word separately\n",
    "        newWords[words.length - 1] = words[words.length - 1];\n",
    "        return newWords;\n",
    "    }\n",
    "\n",
    "    public static void main(String[] args) {\n",
    "        String[] words = {\"hello\", \"world\", \"java\", \"code\"};\n",
    "        WordScrambler scrambler = new WordScrambler(words);\n",
    "        String[] mixed = scrambler.scrambledWords;\n",
    "\n",
    "        for (String word : mixed) {\n",
    "            System.out.println(word);\n",
    "        }\n",
    "    }\n",
    "}\n",
    "\n",
    "WordScrambler.main(new String[]{\"hello\", \"world\", \"java\", \"code\"});"
   ]
  },
  {
   "cell_type": "code",
   "execution_count": 14,
   "metadata": {
    "vscode": {
     "languageId": "java"
    }
   },
   "outputs": [
    {
     "name": "stdout",
     "output_type": "stream",
     "text": [
      "Peak Index: 2\n",
      "Is Mountain: true\n"
     ]
    }
   ],
   "source": [
    "public class MountainTest {\n",
    "\n",
    "    public static void main(String[] args) {\n",
    "        int[] testArray = {1, 3, 5, 4, 2};\n",
    "\n",
    "        int peakIndex = getPeakIndex(testArray);\n",
    "        System.out.println(\"Peak Index: \" + peakIndex);\n",
    "\n",
    "        boolean isMountainArray = isMountain(testArray);\n",
    "        System.out.println(\"Is Mountain: \" + isMountainArray);\n",
    "    }\n",
    "\n",
    "    public static int getPeakIndex(int[] arr) {\n",
    "        int previous = arr[0];\n",
    "        for (int i = 1; i < arr.length - 1; i++) {\n",
    "            if (arr[i] > previous && arr[i] > arr[i + 1]) {\n",
    "                return i;\n",
    "            }\n",
    "        }\n",
    "        return -1;\n",
    "    }\n",
    "\n",
    "    public static boolean isMountain(int[] arr) {\n",
    "        int peak = getPeakIndex(arr);\n",
    "        if (peak == -1) {\n",
    "            return false;\n",
    "        }\n",
    "        for (int i = 0; i < peak; i++) {\n",
    "            if (arr[i] >= arr[i + 1]) {\n",
    "                return false;\n",
    "            }\n",
    "        }\n",
    "        for (int i = peak; i < arr.length - 1; i++) {\n",
    "            if (arr[i] <= arr[i + 1]) {\n",
    "                return false;\n",
    "            }\n",
    "        }\n",
    "        return true;\n",
    "    }\n",
    "}\n",
    "\n",
    "MountainTest.main(new String[]{\"hello\"});"
   ]
  },
  {
   "cell_type": "code",
   "execution_count": 15,
   "metadata": {
    "vscode": {
     "languageId": "java"
    }
   },
   "outputs": [
    {
     "name": "stdout",
     "output_type": "stream",
     "text": [
      "Is Stable: false\n",
      "Updated Temperature Array:\n",
      "10.0 10.0 10.0 10.0 \n",
      "10.0 20.0 20.0 10.0 \n",
      "10.0 20.0 20.0 10.0 \n",
      "10.0 10.0 10.0 10.0 \n"
     ]
    }
   ],
   "source": [
    "public class TemperatureTest {\n",
    "    public static void main(String[] args) {\n",
    "        double[][] tempArray = {\n",
    "            {10.0, 10.0, 10.0, 10.0},\n",
    "            {10.0, 20.0, 20.0, 10.0},\n",
    "            {10.0, 20.0, 20.0, 10.0},\n",
    "            {10.0, 10.0, 10.0, 10.0}\n",
    "        };\n",
    "\n",
    "        double tolerance = 0.5;\n",
    "\n",
    "        TemperatureTest test = new TemperatureTest();\n",
    "        boolean isStable = test.updateAllTemps(tempArray, tolerance);\n",
    "\n",
    "        System.out.println(\"Is Stable: \" + isStable);\n",
    "        System.out.println(\"Updated Temperature Array:\");\n",
    "        for (double[] row : tempArray) {\n",
    "            for (double temp : row) {\n",
    "                System.out.print(temp + \" \");\n",
    "            }\n",
    "            System.out.println();\n",
    "        }\n",
    "    }\n",
    "\n",
    "    private double computeTemp(int row, int col, double[][] arr) {\n",
    "        if (row == 0 || row == arr.length - 1 || col == 0 || col == arr[0].length - 1) {\n",
    "            return arr[row][col];\n",
    "        }\n",
    "        return (arr[row - 1][col] + arr[row + 1][col] + arr[row][col - 1] + arr[row][col + 1]) / 4.0;\n",
    "    }\n",
    "\n",
    "    public boolean updateAllTemps(double[][] arr, double tolerance) {\n",
    "        double[][] newArr = new double[arr.length][arr[0].length];\n",
    "        for (int i = 0; i < arr.length; i++) {\n",
    "            for (int j = 0; j < arr[0].length; j++) {\n",
    "                if (Math.abs(arr[i][j] - computeTemp(i, j, arr)) > tolerance) {\n",
    "                    return false;\n",
    "                }\n",
    "                newArr[i][j] = computeTemp(i, j, arr);\n",
    "            }\n",
    "        }\n",
    "        for (int i = 0; i < arr.length; i++) {\n",
    "            for (int j = 0; j < arr[0].length; j++) {\n",
    "                arr[i][j] = newArr[i][j];\n",
    "            }\n",
    "        }\n",
    "        return true;\n",
    "    }\n",
    "}\n",
    "\n",
    "TemperatureTest.main(new String[]{\"hello\"});"
   ]
  },
  {
   "cell_type": "code",
   "execution_count": 16,
   "metadata": {
    "vscode": {
     "languageId": "java"
    }
   },
   "outputs": [],
   "source": [
    "import java.util.ArrayList;\n",
    "public class ScoreInfo{\n",
    "    private int score;\n",
    "    private int numStudents;\n",
    "\n",
    "    public ScoreInfo(int aScore){\n",
    "        score = aScore;\n",
    "        numStudents = 1;\n",
    "    }\n",
    "\n",
    "    public void increment(){\n",
    "        numStudents++;\n",
    "    }\n",
    "\n",
    "    public int getScore(){\n",
    "        return score;\n",
    "    }\n",
    "\n",
    "    public int getFrequency(){\n",
    "        return numStudents;\n",
    "    }\n",
    "}\n",
    "\n"
   ]
  },
  {
   "cell_type": "code",
   "execution_count": 17,
   "metadata": {
    "vscode": {
     "languageId": "java"
    }
   },
   "outputs": [],
   "source": [
    "public class Stats {\n",
    "    private ArrayList<ScoreInfo> scoreList;\n",
    "\n",
    "    public Stats() {\n",
    "        scoreList = new ArrayList<>();\n",
    "    }\n",
    "\n",
    "    public boolean record(int score) {\n",
    "        for (ScoreInfo s : scoreList) {\n",
    "            if (s.getScore() == score) {\n",
    "                s.increment();\n",
    "                return false;\n",
    "            }\n",
    "        }\n",
    "\n",
    "        int i = 0;\n",
    "        while (i < scoreList.size() && scoreList.get(i).getScore() < score) {\n",
    "            i++;\n",
    "        }\n",
    "\n",
    "        scoreList.add(i, new ScoreInfo(score));\n",
    "        return true;\n",
    "    }\n",
    "\n",
    "    public void recordScores(int[] scores) {\n",
    "    for (int score : scores) {\n",
    "        record(score);\n",
    "    }\n",
    "}\n",
    "}\n"
   ]
  },
  {
   "cell_type": "code",
   "execution_count": 19,
   "metadata": {
    "vscode": {
     "languageId": "java"
    }
   },
   "outputs": [
    {
     "name": "stdout",
     "output_type": "stream",
     "text": [
      "Karen\tLester\tGlen\tDanny\t\n",
      "Liz\tHenry\tFran\tnull\t\n",
      "Paul\tRenee\tDavid\tnull\t\n"
     ]
    }
   ],
   "source": [
    "import java.util.*;\n",
    "\n",
    "public class TestSeatingChart {\n",
    "\n",
    "    public static void main(String[] args) {\n",
    "        List<Student> roster = new ArrayList<>();\n",
    "        roster.add(new Student(\"Karen\", 3));\n",
    "        roster.add(new Student(\"Liz\", 1));\n",
    "        roster.add(new Student(\"Paul\", 4));\n",
    "        roster.add(new Student(\"Lester\", 1));\n",
    "        roster.add(new Student(\"Henry\", 5));\n",
    "        roster.add(new Student(\"Renee\", 9));\n",
    "        roster.add(new Student(\"Glen\", 2));\n",
    "        roster.add(new Student(\"Fran\", 6));\n",
    "        roster.add(new Student(\"David\", 1));\n",
    "        roster.add(new Student(\"Danny\", 3));\n",
    "\n",
    "        SeatingChart chart = new SeatingChart(roster, 3, 4);\n",
    "        chart.printSeatingChart();\n",
    "    }\n",
    "}\n",
    "\n",
    "class Student {\n",
    "    private String name;\n",
    "    private int absenceCount;\n",
    "\n",
    "    public Student(String name, int absenceCount) {\n",
    "        this.name = name;\n",
    "        this.absenceCount = absenceCount;\n",
    "    }\n",
    "\n",
    "    public String getName() {\n",
    "        return name;\n",
    "    }\n",
    "\n",
    "    public int getAbsenceCount() {\n",
    "        return absenceCount;\n",
    "    }\n",
    "\n",
    "    public String toString() {\n",
    "        return name + \"(\" + absenceCount + \")\";\n",
    "    }\n",
    "}\n",
    "\n",
    "class SeatingChart {\n",
    "    private Student[][] seats;\n",
    "\n",
    "    public SeatingChart(List<Student> studentList, int rows, int cols) {\n",
    "        seats = new Student[rows][cols];\n",
    "        int studentIndex = 0;\n",
    "\n",
    "        for (int c = 0; c < cols; c++) {\n",
    "            for (int r = 0; r < rows; r++) {\n",
    "                if (studentIndex < studentList.size()) {\n",
    "                    seats[r][c] = studentList.get(studentIndex);\n",
    "                    studentIndex++;\n",
    "                } else {\n",
    "                    seats[r][c] = null;\n",
    "                }\n",
    "            }\n",
    "        }\n",
    "    }\n",
    "\n",
    "    public void printSeatingChart() {\n",
    "        for (int r = 0; r < seats.length; r++) {\n",
    "            for (int c = 0; c < seats[0].length; c++) {\n",
    "                if (seats[r][c] != null) {\n",
    "                    System.out.print(seats[r][c].getName() + \"\\t\");\n",
    "                } else {\n",
    "                    System.out.print(\"null\\t\");\n",
    "                }\n",
    "            }\n",
    "            System.out.println();\n",
    "        }\n",
    "    }\n",
    "}\n",
    "\n",
    "TestSeatingChart.main(new String[]{\"hello\"});"
   ]
  },
  {
   "cell_type": "code",
   "execution_count": null,
   "metadata": {
    "vscode": {
     "languageId": "java"
    }
   },
   "outputs": [],
   "source": []
  }
 ],
 "metadata": {
  "kernelspec": {
   "display_name": "Java",
   "language": "java",
   "name": "java"
  },
  "language_info": {
   "codemirror_mode": "java",
   "file_extension": ".jshell",
   "mimetype": "text/x-java-source",
   "name": "Java",
   "pygments_lexer": "java",
   "version": "17.0.14+7-Ubuntu-122.04.1"
  }
 },
 "nbformat": 4,
 "nbformat_minor": 2
}
