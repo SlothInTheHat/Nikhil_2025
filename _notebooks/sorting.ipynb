{
 "cells": [
  {
   "cell_type": "code",
   "execution_count": null,
   "metadata": {
    "vscode": {
     "languageId": "java"
    }
   },
   "outputs": [],
   "source": [
    "//Insertion Sort: Sort an array in ascending order using the Insertion Sort algorithm.\n",
    "//Selection Sort: Sort an array in ascending order using the Selection Sort algorithm.\n",
    "import java.util.Arrays;\n",
    "\n",
    "// Test Array\n",
    "int[] supplies = {29, 10, 14, 37, 13, 18, 25, 30, 4, 9, 12, 40, 50, 23, 28};\n",
    "\n",
    "// Insertion Sort\n",
    "public static void insertionSort(int[] arr) {\n",
    "    // TODO: Implement Insertion Sort\n",
    "    // Sort the array using insertion sort algorithm\n",
    "    System.out.println(\"Insertion Sort: \" + results);\n",
    "}\n",
    "\n",
    "// Selection Sort\n",
    "public static void selectionSort(int[] arr) {\n",
    "    // TODO: Implement Selection Sort\n",
    "    // Sort the array using selection sort algorithm\n",
    "    System.out.println(\"Selection Sort: \" + results);\n",
    "}\n",
    "\n",
    "insertionSort(supplies);\n",
    "selectionSort(supplies);"
   ]
  },
  {
   "cell_type": "code",
   "execution_count": null,
   "metadata": {
    "vscode": {
     "languageId": "java"
    }
   },
   "outputs": [
    {
     "name": "stdout",
     "output_type": "stream",
     "text": [
      "Insertion[4, 9, 10, 12, 13, 14, 18, 23, 25, 28, 29, 30, 37, 40, 50]\n",
      "Selection Sort[4, 9, 10, 12, 13, 14, 18, 23, 25, 28, 29, 30, 37, 40, 50]\n"
     ]
    }
   ],
   "source": [
    "import java.util.Arrays;\n",
    "\n",
    "public class SortingAlgorithms {\n",
    "    \n",
    "    // Insertion Sort\n",
    "    public static void insertionSort(int[] arr) {\n",
    "        int n = arr.length;\n",
    "        for (int i = 1; i < n; i++) {\n",
    "            int key = arr[i];\n",
    "            int j = i - 1;\n",
    "            \n",
    "            while (j >= 0 && arr[j] > key) {\n",
    "                arr[j + 1] = arr[j];\n",
    "                j = j - 1;\n",
    "            }\n",
    "            arr[j + 1] = key;\n",
    "        }\n",
    "        System.out.println(\"Insertion \" + Arrays.toString(arr));\n",
    "    }\n",
    "\n",
    "    // Selection Sort\n",
    "    public static void selectionSort(int[] arr) {\n",
    "        int n = arr.length;\n",
    "        for (int i = 0; i < n - 1; i++) {\n",
    "            int minIndex = i;\n",
    "            for (int j = i + 1; j < n; j++) {\n",
    "                if (arr[j] < arr[minIndex]) {\n",
    "                    minIndex = j;\n",
    "                }\n",
    "            }\n",
    "            int temp = arr[minIndex];\n",
    "            arr[minIndex] = arr[i];\n",
    "            arr[i] = temp;\n",
    "        }\n",
    "        System.out.println(\"Selection \" + Arrays.toString(arr));\n",
    "    }\n",
    "\n",
    "    public static void main(String[] args) {\n",
    "        int[] supplies1 = {29, 10, 14, 37, 13, 18, 25, 30, 4, 9, 12, 40, 50, 23, 28};\n",
    "        int[] supplies2 = {29, 10, 14, 37, 13, 18, 25, 30, 4, 9, 12, 40, 50, 23, 28};\n",
    "        \n",
    "        insertionSort(supplies1);\n",
    "        selectionSort(supplies2);\n",
    "    }\n",
    "}\n",
    "\n",
    "SortingAlgorithms.main(new String[0]);\n"
   ]
  },
  {
   "cell_type": "code",
   "execution_count": null,
   "metadata": {
    "vscode": {
     "languageId": "java"
    }
   },
   "outputs": [],
   "source": []
  }
 ],
 "metadata": {
  "kernelspec": {
   "display_name": "Java",
   "language": "java",
   "name": "java"
  },
  "language_info": {
   "codemirror_mode": "java",
   "file_extension": ".jshell",
   "mimetype": "text/x-java-source",
   "name": "Java",
   "pygments_lexer": "java",
   "version": "17.0.12+7-Ubuntu-1ubuntu222.04"
  }
 },
 "nbformat": 4,
 "nbformat_minor": 2
}
