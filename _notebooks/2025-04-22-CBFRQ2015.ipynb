{
 "cells": [
  {
   "cell_type": "markdown",
   "id": "59220c01",
   "metadata": {},
   "source": [
    "---\n",
    "layout: post\n",
    "title: 2015 FRQs\n",
    "description:  JAVA\n",
    "type: issues \n",
    "permalink: /2015FRQ\n",
    "---"
   ]
  },
  {
   "cell_type": "markdown",
   "id": "ce417113",
   "metadata": {},
   "source": [
    "# Array Sum"
   ]
  },
  {
   "cell_type": "code",
   "execution_count": 1,
   "id": "4f2b2cea",
   "metadata": {},
   "outputs": [
    {
     "name": "stdout",
     "output_type": "stream",
     "text": [
      "The sum of the array is: 15\n"
     ]
    }
   ],
   "source": [
    "// 1a\n",
    "\n",
    "public static int arraySum(int[] arr) {\n",
    "    int sum = 0;\n",
    "    for (int i = 0; i < arr.length; i++) {\n",
    "        sum += arr[i];\n",
    "    }\n",
    "    return sum;\n",
    "}\n",
    "\n",
    "\n",
    "int[] numbers = {1, 2, 3, 4, 5};\n",
    "int result = arraySum(numbers);\n",
    "System.out.println(\"The sum of the array is: \" + result);"
   ]
  },
  {
   "cell_type": "code",
   "execution_count": 4,
   "id": "0ddc64d7",
   "metadata": {},
   "outputs": [
    {
     "name": "stdout",
     "output_type": "stream",
     "text": [
      "[6, 15, 6]\n"
     ]
    }
   ],
   "source": [
    "// 1b\n",
    "\n",
    "public static int[] rowSum(int[][] matrix) {\n",
    "    int[] rowArray = new int[matrix[row].length];\n",
    "    \n",
    "    for (int row = 0; row < matrix.length; row++) {\n",
    "        rowArray[row] = arraySum(matrix[row]);\n",
    "    }\n",
    "    return rowArray;\n",
    "}\n",
    "\n",
    "int[][] matrix = {\n",
    "    {1, 2, 3},\n",
    "    {4, 5, 6},\n",
    "    {1, 1, 4}\n",
    "};\n",
    "int row = 1;\n",
    "int[] result = rowSum(matrix);\n",
    "System.out.println(Arrays.toString(result));"
   ]
  },
  {
   "cell_type": "code",
   "execution_count": 5,
   "id": "5025cbe6",
   "metadata": {},
   "outputs": [
    {
     "name": "stdout",
     "output_type": "stream",
     "text": [
      "The matrix is diverse: false\n"
     ]
    }
   ],
   "source": [
    "// 1c\n",
    "\n",
    "public static boolean isDiverse(int[][] matrix) {\n",
    "\n",
    "    int[] res = rowSum(matrix);\n",
    "\n",
    "    for (int i = 0; i < res.length; i++){\n",
    "        for (int j = i + 1; j < res.length; j++){\n",
    "            if (res[i] == res[j]){\n",
    "                return false;\n",
    "            }\n",
    "        }\n",
    "    }\n",
    "    return true;\n",
    "\n",
    "}\n",
    "System.out.println(\"The matrix is diverse: \" + isDiverse(matrix));"
   ]
  },
  {
   "cell_type": "markdown",
   "id": "fec061c6",
   "metadata": {},
   "source": [
    "# Hidden Word"
   ]
  },
  {
   "cell_type": "code",
   "execution_count": 7,
   "id": "5d77189f",
   "metadata": {},
   "outputs": [
    {
     "name": "stdout",
     "output_type": "stream",
     "text": [
      "+A+++\n",
      "H****\n",
      "H*++*\n",
      "HAR*S\n",
      "HARPS\n"
     ]
    }
   ],
   "source": [
    "// 2a\n",
    "\n",
    "public static class HiddenWord {\n",
    "    private String word;\n",
    "\n",
    "    public HiddenWord(String word) {\n",
    "        this.word = word;\n",
    "    }\n",
    "\n",
    "    public String getWord() {\n",
    "        return word;\n",
    "    }\n",
    "\n",
    "    public void setWord(String word) {\n",
    "        this.word = word;\n",
    "    }\n",
    "\n",
    "    public String getHint(String guess) {\n",
    "        StringBuilder result = new StringBuilder();\n",
    "\n",
    "        for (int i = 0; i < word.length(); i++) {\n",
    "            if (word.charAt(i) == guess.charAt(i)) {\n",
    "                result.append(word.charAt(i));\n",
    "            } else if (word.indexOf(guess.charAt(i)) != -1) {\n",
    "                result.append('+');\n",
    "            } else {\n",
    "                result.append('*');\n",
    "            }\n",
    "        }\n",
    "\n",
    "        return result.toString();\n",
    "    }\n",
    "}\n",
    "\n",
    "HiddenWord puzzle = new HiddenWord(\"HARPS\");\n",
    "System.out.println(puzzle.getHint(\"AAAAA\"));\n",
    "System.out.println(puzzle.getHint(\"HELLO\"));\n",
    "System.out.println(puzzle.getHint(\"HEART\"));\n",
    "System.out.println(puzzle.getHint(\"HARMS\"));\n",
    "System.out.println(puzzle.getHint(\"HARPS\"));"
   ]
  },
  {
   "cell_type": "code",
   "execution_count": 3,
   "id": "94fbbe45",
   "metadata": {},
   "outputs": [],
   "source": [
    "public class SparseArrayEntry{\n",
    "    private int row;\n",
    "    private int col;\n",
    "    private int val;\n",
    "\n",
    "    public SparseArrayEntry(int r, int c, int v){\n",
    "        row = r;\n",
    "        col = c;\n",
    "        value = v;\n",
    "    }\n",
    "\n",
    "    public int getRow(){\n",
    "        return row;\n",
    "    }\n",
    "\n",
    "    public int getColumn(){\n",
    "        return column;\n",
    "    }\n",
    "\n",
    "    public int getValue(){\n",
    "        return value;\n",
    "    }\n",
    "\n",
    "    public void setColumn(int c){\n",
    "        col = c;\n",
    "    }   \n",
    "}"
   ]
  },
  {
   "cell_type": "code",
   "execution_count": null,
   "id": "b7129bb8",
   "metadata": {},
   "outputs": [
    {
     "ename": "CompilationException",
     "evalue": "",
     "output_type": "error",
     "traceback": [
      "\u001b[1m\u001b[30m|   \u001b[1m\u001b[30m    \u001b[0m\u001b[1m\u001b[30m\u001b[41mpublic int getValueAt(int row, int col){\u001b[0m",
      "\u001b[1m\u001b[30m|   \u001b[1m\u001b[30m\u001b[41m        for (SparseArrayEntry entry : entries){\u001b[0m",
      "\u001b[1m\u001b[30m|   \u001b[1m\u001b[30m\u001b[41m            if (entry.getRow() == row && entry.getColumn() == col){\u001b[0m",
      "\u001b[1m\u001b[30m|   \u001b[1m\u001b[30m\u001b[41m                return entry.getValue();\u001b[0m",
      "\u001b[1m\u001b[30m|   \u001b[1m\u001b[30m\u001b[41m            }\u001b[0m",
      "\u001b[1m\u001b[30m|   \u001b[1m\u001b[30m\u001b[41m        }\u001b[0m",
      "\u001b[1m\u001b[30m|   \u001b[1m\u001b[30m\u001b[41m        return 0;\u001b[0m",
      "\u001b[1m\u001b[30m|   \u001b[1m\u001b[30m\u001b[41m    }\u001b[0m",
      "\u001b[1m\u001b[31mmethod getValueAt(int,int) is already defined in class SparseArray\u001b[0m",
      "",
      "\u001b[1m\u001b[30m|   \u001b[1m\u001b[30m                entries.remove(\u001b[0m\u001b[1m\u001b[30m\u001b[41mindexOf\u001b[0m\u001b[1m\u001b[30m(entry));\u001b[0m",
      "\u001b[1m\u001b[31mcannot find symbol\u001b[0m",
      "\u001b[1m\u001b[31m  symbol:   method indexOf(SparseArrayEntry)\u001b[0m",
      "",
      "\u001b[1m\u001b[30m|   \u001b[1m\u001b[30m    public int getValueAt(int row, int col)\u001b[0m\u001b[1m\u001b[30m\u001b[41m{\u001b[0m",
      "\u001b[1m\u001b[30m|   \u001b[1m\u001b[30m\u001b[41m\u001b[0m",
      "\u001b[1m\u001b[30m|   \u001b[1m\u001b[30m\u001b[41m    }\u001b[0m",
      "\u001b[1m\u001b[31mmissing return statement\u001b[0m",
      ""
     ]
    }
   ],
   "source": [
    "public class SparseArray {\n",
    "    private int numRows;\n",
    "    private int numCols;\n",
    "\n",
    "    private List<SparseArrayEntry> entries;\n",
    "\n",
    "    public SparseArray() {\n",
    "        entries = new ArrayList<SparseArrayEntry>();\n",
    "    }\n",
    "\n",
    "    public int getNumRows() {\n",
    "        return numRows;\n",
    "    }\n",
    "\n",
    "    public int getNumCols() {\n",
    "        return numCols;\n",
    "    }\n",
    "\n",
    "    public int getValueAt(int row, int col) {\n",
    "        for (SparseArrayEntry entry : entries) {\n",
    "            if (entry.getRow() == row && entry.getColumn() == col) {\n",
    "                return entry.getValue();\n",
    "            }\n",
    "        }\n",
    "        return 0;\n",
    "    }\n",
    "\n",
    "    public void removeColumn(int col) {\n",
    "        for (int i = 0; i < entries.size(); i++) {\n",
    "            SparseArrayEntry entry = entries.get(i);\n",
    "            if (entry.getColumn() == col) {\n",
    "                entries.remove(i);\n",
    "                i--; // Adjust index after removal\n",
    "            } else if (entry.getColumn() > col) {\n",
    "                entry.setColumn(entry.getColumn() - 1);\n",
    "            }\n",
    "        }\n",
    "    }\n",
    "}"
   ]
  },
  {
   "cell_type": "code",
   "execution_count": null,
   "id": "fa2a9847",
   "metadata": {},
   "outputs": [],
   "source": []
  }
 ],
 "metadata": {
  "kernelspec": {
   "display_name": "Java",
   "language": "java",
   "name": "java"
  },
  "language_info": {
   "codemirror_mode": "java",
   "file_extension": ".jshell",
   "mimetype": "text/x-java-source",
   "name": "java",
   "pygments_lexer": "java",
   "version": "17.0.14+7-Ubuntu-122.04.1"
  }
 },
 "nbformat": 4,
 "nbformat_minor": 5
}
