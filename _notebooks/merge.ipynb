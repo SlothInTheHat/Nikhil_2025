{
 "cells": [
  {
   "cell_type": "markdown",
   "metadata": {
    "vscode": {
     "languageId": "java"
    }
   },
   "source": [
    "What is the time complexity of merge sort in the best, worst, and average cases? Explain why.\n",
    "\n",
    "O(nlog(n)) for best and worst and average cases with slight variations in n. This is because the algorythm splits the array in half repeatedly which occurs log(n) times. \n",
    "\n",
    "\n",
    "Compare merge sort with bubble sort and quicksort. When might merge sort be preferred?\n",
    "\n",
    "Merge sort is best used with large datasets where it constantly has a time complexity of O(nlog(n)), whereas bubble sort and quicksort can become O(n^2) in bad cases. \n",
    "\n",
    "Why is merge sort considered a “divide and conquer” algorithm?\n",
    "\n",
    "It is called a divide and conquer algorithm because it divides the array in half and then combines the arrays together at the end. \n",
    "\n",
    "Is merge sort stable? Why does this matter?\n",
    "\n",
    "Yes, merge sort is a stable algorithm, which means that it does not swap equal elements in an array. This matters because it preserves the original data for these elements rather than performing an unnecessary swap. \n",
    "\n",
    "Instructions\n",
    "Task: Write a function in Java that implements merge sort.\n",
    "\n",
    "Bonus task: Modify your merge sort function to count how many comparisons are made during sorting."
   ]
  },
  {
   "cell_type": "code",
   "execution_count": 3,
   "metadata": {},
   "outputs": [
    {
     "name": "stdout",
     "output_type": "stream",
     "text": [
      "Original Heights: [170, 165, 180, 175, 160, 185, 150, 190]\n",
      "Sorted Heights: [150, 160, 165, 170, 175, 180, 185, 190]\n",
      "Total Comparisons: 15\n"
     ]
    }
   ],
   "source": [
    "import java.util.Arrays;\n",
    "\n",
    "public class MergeSortHeights {\n",
    "    static int comparisonCount = 0;\n",
    "\n",
    "    public static void mergeSort(int[] heights, int left, int right) {\n",
    "        if (left < right) {\n",
    "            int mid = left + (right - left) / 2;\n",
    "\n",
    "           \n",
    "            mergeSort(heights, left, mid);\n",
    "            mergeSort(heights, mid + 1, right);\n",
    "            merge(heights, left, mid, right);\n",
    "        }\n",
    "    }\n",
    "\n",
    "    public static void merge(int[] heights, int left, int mid, int right) {\n",
    "        int n1 = mid - left + 1;\n",
    "        int n2 = right - mid;\n",
    "\n",
    "        int[] leftArr = new int[n1];\n",
    "        int[] rightArr = new int[n2];\n",
    "\n",
    "        System.arraycopy(heights, left, leftArr, 0, n1);\n",
    "        System.arraycopy(heights, mid + 1, rightArr, 0, n2);\n",
    "\n",
    "\n",
    "        int i = 0, j = 0, k = left;\n",
    "\n",
    "        while (i < n1 && j < n2) {\n",
    "            comparisonCount++;\n",
    "            if (leftArr[i] <= rightArr[j]) {\n",
    "                heights[k] = leftArr[i];\n",
    "                i++;\n",
    "            } else {\n",
    "                heights[k] = rightArr[j];\n",
    "                j++;\n",
    "            }\n",
    "            k++;\n",
    "        }\n",
    "\n",
    "        while (i < n1) {\n",
    "            heights[k] = leftArr[i];\n",
    "            i++;\n",
    "            k++;\n",
    "        }\n",
    "\n",
    "        while (j < n2) {\n",
    "            heights[k] = rightArr[j];\n",
    "            j++;\n",
    "            k++;\n",
    "        }\n",
    "    }\n",
    "\n",
    "    public static void main(String[] args) {\n",
    "        int[] heights = {170, 165, 180, 175, 160, 185, 150, 190};\n",
    "\n",
    "        System.out.println(\"Original Heights: \" + Arrays.toString(heights));\n",
    "        \n",
    "        mergeSort(heights, 0, heights.length - 1);\n",
    "\n",
    "        System.out.println(\"Sorted Heights: \" + Arrays.toString(heights));\n",
    "        System.out.println(\"Total Comparisons: \" + comparisonCount);\n",
    "    }\n",
    "}\n",
    "\n",
    "\n",
    "MergeSortHeights.main(new String[0]);"
   ]
  },
  {
   "cell_type": "code",
   "execution_count": null,
   "metadata": {},
   "outputs": [],
   "source": []
  }
 ],
 "metadata": {
  "kernelspec": {
   "display_name": "Java",
   "language": "java",
   "name": "java"
  },
  "language_info": {
   "codemirror_mode": "java",
   "file_extension": ".jshell",
   "mimetype": "text/x-java-source",
   "name": "java",
   "pygments_lexer": "java",
   "version": "17.0.12+7-Ubuntu-1ubuntu222.04"
  }
 },
 "nbformat": 4,
 "nbformat_minor": 2
}
